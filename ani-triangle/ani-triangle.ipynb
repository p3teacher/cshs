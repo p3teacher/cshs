{
 "cells": [
  {
   "cell_type": "code",
   "execution_count": 3,
   "id": "1cd0aa27-e740-498e-b835-17c60148c06d",
   "metadata": {},
   "outputs": [
    {
     "name": "stdout",
     "output_type": "stream",
     "text": [
      "['000.png', '003.png', '006.png', '009.png', '012.png', '015.png', '018.png', '021.png', '024.png', '027.png', '030.png', '033.png', '036.png', '039.png', '042.png', '045.png', '048.png', '051.png', '054.png', '057.png', '060.png', '063.png', '066.png', '069.png', '072.png', '075.png', '078.png', '081.png', '084.png', '087.png', '090.png', '093.png', '096.png', '099.png', '102.png', '105.png', '108.png', '111.png', '114.png', '117.png', '120.png']\n",
      "Done\n"
     ]
    }
   ],
   "source": [
    "# create-gif\n",
    "# 2021-12-07\n",
    "#\n",
    "# python 3.8.2\n",
    "# run on mybinder.org\n",
    "# run on https://repl.it\n",
    "# run on ubuntu 16.04 LTS\n",
    "#\n",
    "# 要執行本程式, 請按上方run▶\n",
    "#\n",
    "# 將多個圖檔組成一個動畫檔\n",
    "# https://gifmaker.me/\n",
    "#\n",
    "# to fix matplotlib warning\n",
    "import os\n",
    "path = os.getcwd()\n",
    "os.environ['MPLCONFIGDIR'] = os.getcwd() + \"/configs/\"\n",
    "#\n",
    "import imageio\n",
    "import numpy as np\n",
    "import matplotlib.pyplot as plot\n",
    "#\n",
    "# Get file names from directory\n",
    "def f_list():\n",
    "    file_list = os.listdir(path + '/png/')\n",
    "    file_list.sort()\n",
    "    print(file_list)\n",
    "    return file_list\n",
    "# end def\n",
    "#\n",
    "def load_image(png_file) :\n",
    "    image = plot.imread(png_file)\n",
    "    image = (image * 255).round().astype(np.uint8)\n",
    "    # print(image.dtype)\n",
    "    return image\n",
    "# end def \n",
    "#\n",
    "# retrieve file list\n",
    "png_list = f_list()\n",
    "# print(png_list)\n",
    "#\n",
    "# kwargs_write = {'fps':1, 'quantizer':'nq'}\n",
    "imageio.mimsave('ani-triangle.gif', [load_image('./png/'+png) for png in png_list if len(png) == 7], fps=10, duration=0.1)\n",
    "#\n",
    "print ('Done')"
   ]
  },
  {
   "cell_type": "code",
   "execution_count": null,
   "id": "f3325568-987d-45a8-adee-389d76bc9a21",
   "metadata": {},
   "outputs": [],
   "source": []
  }
 ],
 "metadata": {
  "kernelspec": {
   "display_name": "Python 3 (ipykernel)",
   "language": "python",
   "name": "python3"
  },
  "language_info": {
   "codemirror_mode": {
    "name": "ipython",
    "version": 3
   },
   "file_extension": ".py",
   "mimetype": "text/x-python",
   "name": "python",
   "nbconvert_exporter": "python",
   "pygments_lexer": "ipython3",
   "version": "3.7.12"
  }
 },
 "nbformat": 4,
 "nbformat_minor": 5
}
