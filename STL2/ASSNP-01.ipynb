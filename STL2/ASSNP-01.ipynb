{
 "cells": [
  {
   "cell_type": "code",
   "execution_count": 2,
   "metadata": {},
   "outputs": [
    {
     "name": "stdout",
     "output_type": "stream",
     "text": [
      "Done\n"
     ]
    }
   ],
   "source": [
    "# ASSNP-01.py\n",
    "# 2018-08-21 Python3, 1.0\n",
    "#\n",
    "# 合併[dem-01, dem02, ----, dem-10], 產生dem-all.csv file\n",
    "#\n",
    "# run on ubuntu 16.04 LTS\n",
    "#\n",
    "# 程式檔 path is '/home/tour945/2_SSNP3D/code'\n",
    "# 資料檔 path is '/home/tour945/2_SSNP3D/data'\n",
    "# 圖形檔 path is '/home/tour945/2_SSNP3D/graphic'\n",
    "#\n",
    "path_data    = './data/'\n",
    "#\n",
    "# 依序讀入20m DEM ASCII text data file, format is: x y z\n",
    "#\n",
    "filenames = [path_data + '1-94182051dem.grd',\n",
    "             path_data + '2-94182052dem.grd',\n",
    "             path_data + '3-94183050dem.grd',\n",
    "             path_data + '4-94182041dem.grd',\n",
    "             path_data + '5-94182042dem.grd',\n",
    "             path_data + '6-94183040dem.grd',\n",
    "             path_data + '7-94182031dem.grd',\n",
    "             path_data + '8-94182032dem.grd',\n",
    "             path_data + '9-94182021dem.grd',\n",
    "             path_data + 'A-94182022dem.grd'\n",
    "            ]\n",
    "with open(path_data + 'dem-all-1.grd','wt') as outfile:\n",
    "    for filename in filenames:\n",
    "        with open(filename) as infile:\n",
    "            for line in infile:\n",
    "                outfile.write(line)\n",
    "#\n",
    "print ('Done')"
   ]
  },
  {
   "cell_type": "code",
   "execution_count": null,
   "metadata": {},
   "outputs": [],
   "source": []
  }
 ],
 "metadata": {
  "kernelspec": {
   "display_name": "Python 3 (ipykernel)",
   "language": "python",
   "name": "python3"
  },
  "language_info": {
   "codemirror_mode": {
    "name": "ipython",
    "version": 3
   },
   "file_extension": ".py",
   "mimetype": "text/x-python",
   "name": "python",
   "nbconvert_exporter": "python",
   "pygments_lexer": "ipython3",
   "version": "3.9.1"
  }
 },
 "nbformat": 4,
 "nbformat_minor": 4
}
