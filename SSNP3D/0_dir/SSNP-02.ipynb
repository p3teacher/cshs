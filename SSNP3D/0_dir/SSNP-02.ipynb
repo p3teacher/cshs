{
 "cells": [
  {
   "cell_type": "code",
   "execution_count": 2,
   "metadata": {},
   "outputs": [
    {
     "name": "stdout",
     "output_type": "stream",
     "text": [
      "當前工作目錄 ==> /home/jovyan/SSNP3D/0_dir\n",
      "Done\n"
     ]
    }
   ],
   "source": [
    "# SSNP-02.py\n",
    "# 2021-11-15\n",
    "#\n",
    "# 合併[dem-01, dem02, ----, dem-10], 產生dem-all.csv file\n",
    "#\n",
    "# run on myBinder.org JupyterLab\n",
    "# 程式檔 path is '/home/jovyan/SSNP3D/0_dir'\n",
    "# 資料檔 path is '/home/jovyan/SSNP3D/0_dir/data'\n",
    "# 圖形檔 path is '/home/jovyan/SSNP3D/0_dir/graphic'\n",
    "#\n",
    "import os\n",
    "path = os.getcwd()\n",
    "print('當前工作目錄 ==>', path)\n",
    "#\n",
    "import csv\n",
    "import numpy as np\n",
    "import matplotlib\n",
    "import matplotlib.pyplot as plt\n",
    "import matplotlib.font_manager as fontManager\n",
    "#\n",
    "from pprint import pprint\n",
    "#\n",
    "path_data    = './data/'\n",
    "path_graphic = './graphic/'\n",
    "#\n",
    "# 依序讀入[dem-01, dem02, ----, dem-10]\n",
    "filenames = [path_data + 'dem_94182051.csv',\n",
    "             path_data + 'dem_94182052.csv',\n",
    "             path_data + 'dem_94183050.csv',\n",
    "             path_data + 'dem_94182041.csv',\n",
    "             path_data + 'dem_94182042.csv',\n",
    "             path_data + 'dem_94183040.csv',\n",
    "             path_data + 'dem_94182031.csv',\n",
    "             path_data + 'dem_94182032.csv',\n",
    "             path_data + 'dem_94182021.csv',\n",
    "             path_data + 'dem_94182022.csv'\n",
    "            ]\n",
    "with open(path_data + 'dem_all-1.csv','wt') as outfile:\n",
    "    for fname in filenames:\n",
    "        with open(fname) as infile:\n",
    "            for line in infile:\n",
    "                outfile.write(line)\n",
    "            # end for\n",
    "        # end with\n",
    "    # end for\n",
    "# end with\n",
    "#\n",
    "print ('Done')"
   ]
  },
  {
   "cell_type": "code",
   "execution_count": null,
   "metadata": {},
   "outputs": [],
   "source": []
  }
 ],
 "metadata": {
  "kernelspec": {
   "display_name": "Python 3 (ipykernel)",
   "language": "python",
   "name": "python3"
  },
  "language_info": {
   "codemirror_mode": {
    "name": "ipython",
    "version": 3
   },
   "file_extension": ".py",
   "mimetype": "text/x-python",
   "name": "python",
   "nbconvert_exporter": "python",
   "pygments_lexer": "ipython3",
   "version": "3.7.10"
  }
 },
 "nbformat": 4,
 "nbformat_minor": 4
}
