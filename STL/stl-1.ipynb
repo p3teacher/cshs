{
 "cells": [
  {
   "cell_type": "code",
   "execution_count": 11,
   "id": "2761b96a-0527-4cef-9a77-cebfdf023f13",
   "metadata": {},
   "outputs": [
    {
     "name": "stdout",
     "output_type": "stream",
     "text": [
      "Done\n"
     ]
    }
   ],
   "source": [
    "# stl-1.ipynb\n",
    "# 2021-11-21\n",
    "#\n",
    "import numpy as np\n",
    "from stl import mesh\n",
    "#\n",
    "path_3Dstl = './3Dstl/'\n",
    "#\n",
    "# Define the 8 vertices of the cube\n",
    "vers = np.array([\n",
    "    [-1, -1, -1],  # 0\n",
    "    [ 1, -1, -1],  # 1\n",
    "    [ 1,  1, -1],  # 2\n",
    "    [-1,  1, -1],  # 3\n",
    "    [-1, -1,  1],  # 4\n",
    "    [ 1, -1,  1],  # 5\n",
    "    [ 1,  1,  1],  # 6\n",
    "    [-1,  1,  1]]) # 7\n",
    "#\n",
    "# Define the 12 triangles composing the cube\n",
    "faces = np.array([\n",
    "    [vers[0],vers[3],vers[1]],\n",
    "    [vers[1],vers[3],vers[2]],\n",
    "    [vers[0],vers[4],vers[7]],\n",
    "    [vers[0],vers[7],vers[3]],\n",
    "    [vers[4],vers[5],vers[6]],\n",
    "    [vers[4],vers[6],vers[7]],\n",
    "    [vers[5],vers[1],vers[2]],\n",
    "    [vers[5],vers[2],vers[6]],\n",
    "    [vers[2],vers[3],vers[6]],\n",
    "    [vers[3],vers[7],vers[6]],\n",
    "    [vers[0],vers[1],vers[5]],\n",
    "    [vers[0],vers[5],vers[4]]])\n",
    "#\n",
    "# Create the mesh\n",
    "#\n",
    "cube_faces = np.zeros(faces.shape[0], dtype=mesh.Mesh.dtype)\n",
    "for i in range(0,faces.shape[0],1) :\n",
    "    cube_faces['vectors'][i] = faces[i]\n",
    "# end for\n",
    "#\n",
    "# Create the mesh\n",
    "cube = mesh.Mesh(cube_faces)\n",
    "# Write the mesh to file \"cube.stl\"\n",
    "cube.save(path_3Dstl + 'cube.stl')\n",
    "#\n",
    "print('Done')"
   ]
  },
  {
   "cell_type": "code",
   "execution_count": null,
   "id": "54044377-14ba-4aeb-8a42-81e21273e7c8",
   "metadata": {},
   "outputs": [],
   "source": []
  }
 ],
 "metadata": {
  "kernelspec": {
   "display_name": "Python 3 (ipykernel)",
   "language": "python",
   "name": "python3"
  },
  "language_info": {
   "codemirror_mode": {
    "name": "ipython",
    "version": 3
   },
   "file_extension": ".py",
   "mimetype": "text/x-python",
   "name": "python",
   "nbconvert_exporter": "python",
   "pygments_lexer": "ipython3",
   "version": "3.7.12"
  }
 },
 "nbformat": 4,
 "nbformat_minor": 5
}
