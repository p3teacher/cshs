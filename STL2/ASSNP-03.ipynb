{
 "cells": [
  {
   "cell_type": "code",
   "execution_count": 14,
   "metadata": {},
   "outputs": [
    {
     "name": "stdout",
     "output_type": "stream",
     "text": [
      "Done\n"
     ]
    }
   ],
   "source": [
    "# SSNP-07.py\n",
    "# 2018-08-21 Python3, 1.0\n",
    "#\n",
    "# read in dem-all-2.csv file, sort and delete duplicate line\n",
    "# write out dem-all-3.csv, dem-all-4.csv file\n",
    "#\n",
    "# run on ubuntu 16.04 LTS\n",
    "#\n",
    "# 程式檔 path is './'\n",
    "# 資料檔 path is './data'\n",
    "#\n",
    "import csv, operator\n",
    "#\n",
    "path_data = './data/'\n",
    "# \n",
    "# first sort by X value\n",
    "#  then sort by Y value\n",
    "# effect is : Y ORDER first, then X ORDER\n",
    "#\n",
    "# Sort file\n",
    "#\n",
    "with open(path_data + 'dem-all-2.csv', mode='r', newline='', encoding='utf-8') as infile, open(path_data + 'dem-all-3.csv', mode='w', newline='', encoding='utf-8')  as outfile:\n",
    "    reader = csv.reader(infile,  delimiter=',')\n",
    "    writer = csv.writer(outfile, delimiter=',')\n",
    "    sorted1 = sorted(reader,  key=operator.itemgetter(0)) \n",
    "    sorted2 = sorted(sorted1, key=operator.itemgetter(1)) \n",
    "    for row in sorted2:\n",
    "        writer.writerow(row)\n",
    "    # end for\n",
    "# end with\n",
    "#\n",
    "# dem-all-3.csv have 149328 rows\n",
    "# After elete duplicate lines\n",
    "# dem-all-4.csv have 140547 rows\n",
    "#\n",
    "lines_seen = set() # holds lines already seen\n",
    "outfile = open(path_data + 'dem-all-4.csv', \"w\", newline='', encoding='utf-8')\n",
    "for line in open(path_data + 'dem-all-3.csv', \"rt\", newline='', encoding='utf-8'):\n",
    "    if line not in lines_seen: # not a duplicate\n",
    "        outfile.write(line)\n",
    "        lines_seen.add(line)\n",
    "    # end if\n",
    "# end for\n",
    "#\n",
    "outfile.close()\n",
    "#\n",
    "print ('Done')"
   ]
  },
  {
   "cell_type": "code",
   "execution_count": null,
   "metadata": {},
   "outputs": [],
   "source": []
  }
 ],
 "metadata": {
  "kernelspec": {
   "display_name": "Python 3 (ipykernel)",
   "language": "python",
   "name": "python3"
  },
  "language_info": {
   "codemirror_mode": {
    "name": "ipython",
    "version": 3
   },
   "file_extension": ".py",
   "mimetype": "text/x-python",
   "name": "python",
   "nbconvert_exporter": "python",
   "pygments_lexer": "ipython3",
   "version": "3.9.1"
  }
 },
 "nbformat": 4,
 "nbformat_minor": 4
}
