{
 "cells": [
  {
   "cell_type": "code",
   "execution_count": 2,
   "id": "774324cd-8b93-4f8a-ae5e-3ccc57f25c87",
   "metadata": {},
   "outputs": [
    {
     "name": "stdout",
     "output_type": "stream",
     "text": [
      "sys.maxsize is 9223372036854775807\n",
      "for int32, max intger is          2147483647\n",
      "for int64, max intger is 9223372036854775807\n",
      "--------------------------------------------\n",
      "2147483645.5\n",
      "2147483645\n",
      "2147483645\n",
      "--------------------------------------------\n",
      "9223372036854775807\n",
      "9.22337203685477e+17\n",
      "922337203685476992\n",
      "--------------------------------------------\n",
      "[1.1, 2.2, 3.3, 4.4, 5.5, 6.6, 7.7, 8.8, 9.9]\n",
      "[1.1 2.2 3.3 4.4 5.5 6.6 7.7 8.8 9.9]\n",
      "[1 2 3 4 5 6 7 8 9]\n",
      "[1, 2, 3, 4, 5, 6, 7, 8, 9]\n",
      "(1, 2, 3, 4, 5, 6, 7, 8, 9)\n",
      "--------------------------------------------\n"
     ]
    }
   ],
   "source": [
    "# test-vectorize-1.ipynb\n",
    "# 2021-11-14\n",
    "#\n",
    "import sys\n",
    "import numpy as np\n",
    "#\n",
    "print('sys.maxsize is', sys.maxsize)\n",
    "# 32位：該值將為2^31-1，即2147483647\n",
    "# 64位：該值將為2^63-1，即9223372036854775807\n",
    "print('for int32, max intger is          2147483647')\n",
    "print('for int64, max intger is 9223372036854775807')\n",
    "print('--------------------------------------------')\n",
    "#\n",
    "x1 = 2147483645.5\n",
    "y1 = np.int32(x1)\n",
    "print(x1)\n",
    "print(int(x1))\n",
    "print(y1)\n",
    "print('--------------------------------------------')\n",
    "#\n",
    "x2 = 9223372036854775807\n",
    "x3 = 922337203685476992.0\n",
    "y3 = np.int64(x3)\n",
    "print(x2)\n",
    "print(x3)\n",
    "print(y3)\n",
    "print('--------------------------------------------')\n",
    "#\n",
    "x4_list = [1.1, 2.2, 3.3, 4.4, 5.5, 6.6, 7.7, 8.8, 9.9]\n",
    "x4 = np.array(x4_list)\n",
    "y4 = np.int32(x4)\n",
    "#\n",
    "print(x4_list)\n",
    "print(x4)\n",
    "print(y4)\n",
    "print(list(y4))\n",
    "print(tuple(y4))\n",
    "print('--------------------------------------------')"
   ]
  },
  {
   "cell_type": "code",
   "execution_count": null,
   "id": "ee133f8c-cacd-4f53-b079-e6620888eb79",
   "metadata": {},
   "outputs": [],
   "source": []
  }
 ],
 "metadata": {
  "kernelspec": {
   "display_name": "Python 3 (ipykernel)",
   "language": "python",
   "name": "python3"
  },
  "language_info": {
   "codemirror_mode": {
    "name": "ipython",
    "version": 3
   },
   "file_extension": ".py",
   "mimetype": "text/x-python",
   "name": "python",
   "nbconvert_exporter": "python",
   "pygments_lexer": "ipython3",
   "version": "3.7.10"
  }
 },
 "nbformat": 4,
 "nbformat_minor": 5
}
