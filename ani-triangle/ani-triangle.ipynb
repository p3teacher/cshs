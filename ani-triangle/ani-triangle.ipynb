{
 "cells": [
  {
   "cell_type": "code",
   "execution_count": null,
   "id": "1cd0aa27-e740-498e-b835-17c60148c06d",
   "metadata": {},
   "outputs": [],
   "source": [
    "# create-gif\n",
    "# 2021-12-07\n",
    "#\n",
    "# python 3.8.2\n",
    "# run on mybinder.org\n",
    "# run on https://repl.it\n",
    "# run on ubuntu 16.04 LTS\n",
    "#\n",
    "# 要執行本程式, 請按上方run▶\n",
    "#\n",
    "# 將多個圖檔組成一個動畫檔\n",
    "# https://gifmaker.me/\n",
    "#\n",
    "# to fix matplotlib warning\n",
    "import os\n",
    "os.environ['MPLCONFIGDIR'] = os.getcwd() + \"/configs/\"\n",
    "#\n",
    "import imageio\n",
    "import numpy as np\n",
    "import matplotlib.pyplot as plot\n",
    "#\n",
    "# Get file names from directory\n",
    "def f_list():\n",
    "    file_list = os.listdir(r\"./png/\")\n",
    "    print (file_list)\n",
    "    return file_list\n",
    "# end def\n",
    "#\n",
    "def load_image(png_file) :\n",
    "    image = plot.imread(png_file)\n",
    "    image = (image * 255).round().astype(np.uint8)\n",
    "    # print(image.dtype)\n",
    "    return image\n",
    "# end def \n",
    "#\n",
    "# retrieve file list\n",
    "png_list = f_list()\n",
    "# print(png_list)\n",
    "#\n",
    "# kwargs_write = {'fps':1, 'quantizer':'nq'}\n",
    "imageio.mimsave('ani-triangle.gif', [load_image('./png/'+png) for png in png_list], fps=1, duration=1.0)\n",
    "#\n",
    "print ('Done')"
   ]
  }
 ],
 "metadata": {
  "kernelspec": {
   "display_name": "Python 3 (ipykernel)",
   "language": "python",
   "name": "python3"
  },
  "language_info": {
   "codemirror_mode": {
    "name": "ipython",
    "version": 3
   },
   "file_extension": ".py",
   "mimetype": "text/x-python",
   "name": "python",
   "nbconvert_exporter": "python",
   "pygments_lexer": "ipython3",
   "version": "3.7.12"
  }
 },
 "nbformat": 4,
 "nbformat_minor": 5
}
